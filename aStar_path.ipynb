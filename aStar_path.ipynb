{
  "cells": [
    {
      "cell_type": "markdown",
      "metadata": {
        "colab_type": "text",
        "id": "view-in-github"
      },
      "source": [
        "<a href=\"https://colab.research.google.com/github/SSenitha/CCS3052_Advance_DSA/blob/Sandaru-s-Branch/aStar_path.ipynb\" target=\"_parent\"><img src=\"https://colab.research.google.com/assets/colab-badge.svg\" alt=\"Open In Colab\"/></a>"
      ]
    },
    {
      "cell_type": "markdown",
      "metadata": {
        "id": "Qvk96rh7PxPX"
      },
      "source": [
        "#Import Dataset"
      ]
    },
    {
      "cell_type": "code",
      "execution_count": 58,
      "metadata": {
        "colab": {
          "base_uri": "https://localhost:8080/"
        },
        "id": "2bSqu6WggF4A",
        "outputId": "a3f2bb0b-9d54-4c07-bb10-d73c9b72e852"
      },
      "outputs": [
        {
          "name": "stderr",
          "output_type": "stream",
          "text": [
            "'wget' is not recognized as an internal or external command,\n",
            "operable program or batch file.\n"
          ]
        }
      ],
      "source": [
        "# Load data from the repository\n",
        "!wget https://raw.githubusercontent.com/SSenitha/CCS3052_Advance_DSA/refs/heads/main/Cities_of_SriLanka.csv\n"
      ]
    },
    {
      "cell_type": "code",
      "execution_count": 59,
      "metadata": {
        "id": "2LAkN4BjvBCq"
      },
      "outputs": [],
      "source": [
        "#Import necessary libraries\n",
        "\n",
        "import math, time, heapq\n",
        "import pandas as pd\n",
        "import numpy as np\n",
        "import seaborn as sns\n",
        "import matplotlib.pyplot as plt\n",
        "from scipy.stats import stats\n",
        "from sklearn.neighbors import NearestNeighbors\n",
        "from scipy.sparse import csr_matrix\n",
        "\n",
        "from collections import defaultdict\n",
        "from sklearn.neighbors import BallTree"
      ]
    },
    {
      "cell_type": "code",
      "execution_count": 60,
      "metadata": {
        "colab": {
          "base_uri": "https://localhost:8080/",
          "height": 223
        },
        "id": "vTHi0Oatu8g2",
        "outputId": "13a25776-91c9-4ee3-c51f-d6517213e40d"
      },
      "outputs": [
        {
          "name": "stdout",
          "output_type": "stream",
          "text": [
            "Total rows count: 2155\n"
          ]
        },
        {
          "data": {
            "text/html": [
              "<div>\n",
              "<style scoped>\n",
              "    .dataframe tbody tr th:only-of-type {\n",
              "        vertical-align: middle;\n",
              "    }\n",
              "\n",
              "    .dataframe tbody tr th {\n",
              "        vertical-align: top;\n",
              "    }\n",
              "\n",
              "    .dataframe thead th {\n",
              "        text-align: right;\n",
              "    }\n",
              "</style>\n",
              "<table border=\"1\" class=\"dataframe\">\n",
              "  <thead>\n",
              "    <tr style=\"text-align: right;\">\n",
              "      <th></th>\n",
              "      <th>city_id</th>\n",
              "      <th>district_id</th>\n",
              "      <th>name_en</th>\n",
              "      <th>name_si</th>\n",
              "      <th>name_ta</th>\n",
              "      <th>sub_name_en</th>\n",
              "      <th>sub_name_si</th>\n",
              "      <th>sub_name_ta</th>\n",
              "      <th>postcode</th>\n",
              "      <th>latitude</th>\n",
              "      <th>longitude</th>\n",
              "    </tr>\n",
              "  </thead>\n",
              "  <tbody>\n",
              "    <tr>\n",
              "      <th>0</th>\n",
              "      <td>1</td>\n",
              "      <td>1</td>\n",
              "      <td>Akkaraipattu</td>\n",
              "      <td>අක්කරපත්තුව</td>\n",
              "      <td>அக்கரைப்பற்று</td>\n",
              "      <td>NULL</td>\n",
              "      <td>NULL</td>\n",
              "      <td>NULL</td>\n",
              "      <td>32400.0</td>\n",
              "      <td>7.218428</td>\n",
              "      <td>81.854116</td>\n",
              "    </tr>\n",
              "    <tr>\n",
              "      <th>1</th>\n",
              "      <td>2</td>\n",
              "      <td>1</td>\n",
              "      <td>Ambagahawatta</td>\n",
              "      <td>අඹගහවත්ත</td>\n",
              "      <td>அம்பகஹவத்த</td>\n",
              "      <td>NULL</td>\n",
              "      <td>NULL</td>\n",
              "      <td>NULL</td>\n",
              "      <td>90326.0</td>\n",
              "      <td>7.301756</td>\n",
              "      <td>81.674729</td>\n",
              "    </tr>\n",
              "    <tr>\n",
              "      <th>2</th>\n",
              "      <td>3</td>\n",
              "      <td>1</td>\n",
              "      <td>Ampara</td>\n",
              "      <td>අම්පාර</td>\n",
              "      <td>அம்பாறை</td>\n",
              "      <td>NULL</td>\n",
              "      <td>NULL</td>\n",
              "      <td>NULL</td>\n",
              "      <td>32000.0</td>\n",
              "      <td>7.301756</td>\n",
              "      <td>81.674729</td>\n",
              "    </tr>\n",
              "    <tr>\n",
              "      <th>3</th>\n",
              "      <td>4</td>\n",
              "      <td>1</td>\n",
              "      <td>Bakmitiyawa</td>\n",
              "      <td>බක්මිටියාව</td>\n",
              "      <td>பக்மிடியாவ</td>\n",
              "      <td>NULL</td>\n",
              "      <td>NULL</td>\n",
              "      <td>NULL</td>\n",
              "      <td>32024.0</td>\n",
              "      <td>7.029632</td>\n",
              "      <td>81.680205</td>\n",
              "    </tr>\n",
              "    <tr>\n",
              "      <th>4</th>\n",
              "      <td>5</td>\n",
              "      <td>1</td>\n",
              "      <td>Deegawapiya</td>\n",
              "      <td>දීඝවාපිය</td>\n",
              "      <td>தீகவாபி</td>\n",
              "      <td>NULL</td>\n",
              "      <td>NULL</td>\n",
              "      <td>NULL</td>\n",
              "      <td>32006.0</td>\n",
              "      <td>7.301756</td>\n",
              "      <td>81.674729</td>\n",
              "    </tr>\n",
              "  </tbody>\n",
              "</table>\n",
              "</div>"
            ],
            "text/plain": [
              "   city_id  district_id        name_en      name_si        name_ta  \\\n",
              "0        1            1   Akkaraipattu  අක්කරපත්තුව  அக்கரைப்பற்று   \n",
              "1        2            1  Ambagahawatta     අඹගහවත්ත     அம்பகஹவத்த   \n",
              "2        3            1         Ampara       අම්පාර        அம்பாறை   \n",
              "3        4            1    Bakmitiyawa   බක්මිටියාව     பக்மிடியாவ   \n",
              "4        5            1    Deegawapiya     දීඝවාපිය        தீகவாபி   \n",
              "\n",
              "  sub_name_en sub_name_si sub_name_ta  postcode  latitude  longitude  \n",
              "0        NULL        NULL        NULL   32400.0  7.218428  81.854116  \n",
              "1        NULL        NULL        NULL   90326.0  7.301756  81.674729  \n",
              "2        NULL        NULL        NULL   32000.0  7.301756  81.674729  \n",
              "3        NULL        NULL        NULL   32024.0  7.029632  81.680205  \n",
              "4        NULL        NULL        NULL   32006.0  7.301756  81.674729  "
            ]
          },
          "execution_count": 60,
          "metadata": {},
          "output_type": "execute_result"
        }
      ],
      "source": [
        "# Read the dataset and output the total count\n",
        "#df = pd.read_csv('/content/Cities_of_SriLanka.csv')\n",
        "\n",
        "#----------------For VS Code----------------\n",
        "df = pd.read_csv('./Cities_of_SriLanka.csv')\n",
        "#-------------------------------------------\n",
        "\n",
        "print(f\"Total rows count: {df['city id'].count()}\")\n",
        "df.rename(columns={\"city id\": \"city_id\"}, inplace=True)\n",
        "df.head()"
      ]
    },
    {
      "cell_type": "code",
      "execution_count": 61,
      "metadata": {
        "colab": {
          "base_uri": "https://localhost:8080/"
        },
        "id": "wAx45xzby2On",
        "outputId": "d3832908-17f9-48ed-ff83-8f7b01018f6a"
      },
      "outputs": [
        {
          "name": "stdout",
          "output_type": "stream",
          "text": [
            "Total rows count after dropping duplicates: 1919\n"
          ]
        }
      ],
      "source": [
        "#Remove the Cities with little to no geographical difference\n",
        "\n",
        "df = df.drop_duplicates(subset=['latitude', 'longitude'], keep='first').reset_index(drop=True)\n",
        "print(f\"Total rows count after dropping duplicates: {df['city_id'].count()}\")"
      ]
    },
    {
      "cell_type": "code",
      "execution_count": 62,
      "metadata": {
        "id": "5qd_9dM11Shc"
      },
      "outputs": [],
      "source": [
        "#Dropping the columns that won't be used in the making of graph/Matrix\n",
        "df = df.drop(columns=[\"district_id\",\"name_si\",\"name_ta\",\"sub_name_en\",\"sub_name_si\",\"sub_name_ta\",\"postcode\"])"
      ]
    },
    {
      "cell_type": "code",
      "execution_count": 63,
      "metadata": {
        "id": "Jg8rsN22YrB3"
      },
      "outputs": [],
      "source": [
        "def resetIndex():\n",
        "  df.drop(columns=[\"city_id\"], inplace=True)\n",
        "  df.insert(0, \"city_id\", df.index)\n",
        "  return df"
      ]
    },
    {
      "cell_type": "code",
      "execution_count": 64,
      "metadata": {
        "colab": {
          "base_uri": "https://localhost:8080/",
          "height": 206
        },
        "id": "lUJXb9YD03LC",
        "outputId": "d756bbd0-6559-4742-9091-cbac5a106700"
      },
      "outputs": [
        {
          "data": {
            "text/html": [
              "<div>\n",
              "<style scoped>\n",
              "    .dataframe tbody tr th:only-of-type {\n",
              "        vertical-align: middle;\n",
              "    }\n",
              "\n",
              "    .dataframe tbody tr th {\n",
              "        vertical-align: top;\n",
              "    }\n",
              "\n",
              "    .dataframe thead th {\n",
              "        text-align: right;\n",
              "    }\n",
              "</style>\n",
              "<table border=\"1\" class=\"dataframe\">\n",
              "  <thead>\n",
              "    <tr style=\"text-align: right;\">\n",
              "      <th></th>\n",
              "      <th>city_id</th>\n",
              "      <th>name_en</th>\n",
              "      <th>latitude</th>\n",
              "      <th>longitude</th>\n",
              "    </tr>\n",
              "  </thead>\n",
              "  <tbody>\n",
              "    <tr>\n",
              "      <th>0</th>\n",
              "      <td>0</td>\n",
              "      <td>Akkaraipattu</td>\n",
              "      <td>7.218428</td>\n",
              "      <td>81.854116</td>\n",
              "    </tr>\n",
              "    <tr>\n",
              "      <th>1</th>\n",
              "      <td>1</td>\n",
              "      <td>Ambagahawatta</td>\n",
              "      <td>7.301756</td>\n",
              "      <td>81.674729</td>\n",
              "    </tr>\n",
              "    <tr>\n",
              "      <th>2</th>\n",
              "      <td>2</td>\n",
              "      <td>Bakmitiyawa</td>\n",
              "      <td>7.029632</td>\n",
              "      <td>81.680205</td>\n",
              "    </tr>\n",
              "    <tr>\n",
              "      <th>3</th>\n",
              "      <td>3</td>\n",
              "      <td>Digamadulla Weeragoda</td>\n",
              "      <td>7.390125</td>\n",
              "      <td>81.696588</td>\n",
              "    </tr>\n",
              "    <tr>\n",
              "      <th>4</th>\n",
              "      <td>4</td>\n",
              "      <td>Dorakumbura</td>\n",
              "      <td>7.358870</td>\n",
              "      <td>81.301428</td>\n",
              "    </tr>\n",
              "  </tbody>\n",
              "</table>\n",
              "</div>"
            ],
            "text/plain": [
              "   city_id                name_en  latitude  longitude\n",
              "0        0           Akkaraipattu  7.218428  81.854116\n",
              "1        1          Ambagahawatta  7.301756  81.674729\n",
              "2        2            Bakmitiyawa  7.029632  81.680205\n",
              "3        3  Digamadulla Weeragoda  7.390125  81.696588\n",
              "4        4            Dorakumbura  7.358870  81.301428"
            ]
          },
          "execution_count": 64,
          "metadata": {},
          "output_type": "execute_result"
        }
      ],
      "source": [
        "resetIndex()\n",
        "df.head()"
      ]
    },
    {
      "cell_type": "markdown",
      "metadata": {
        "id": "zVQgWI8CMj9I"
      },
      "source": [
        "#Adjacency/Sparse Matrix Approach"
      ]
    },
    {
      "cell_type": "code",
      "execution_count": 65,
      "metadata": {
        "id": "tONH_y8nITcO"
      },
      "outputs": [],
      "source": [
        "def dist(lat1, lon1, lat2, lon2):\n",
        "    #Haversine formula for spherical distances\n",
        "    R = 6371.0088\n",
        "\n",
        "    phi1 = math.radians(lat1); phi2 = math.radians(lat2)\n",
        "    dphi = math.radians(lat2 - lat1); dlambda = math.radians(lon2 - lon1)\n",
        "\n",
        "    a = math.sin(dphi/2.0)**2 + math.cos(phi1) * math.cos(phi2) * math.sin(dlambda/2.0)**2\n",
        "    a = min(1.0, max(0.0, a))\n",
        "    return 2 * R * math.asin(math.sqrt(a))"
      ]
    },
    {
      "cell_type": "code",
      "execution_count": 66,
      "metadata": {},
      "outputs": [],
      "source": [
        "def dist2km(distance):\n",
        "    R = 6371.0088\n",
        "\n",
        "    # Calculate spherical distance\n",
        "    a = math.asin(distance/(2*R))\n",
        "    c = R * 2 * math.asin(math.sqrt(a))\n",
        "\n",
        "    return c"
      ]
    },
    {
      "cell_type": "code",
      "execution_count": 67,
      "metadata": {
        "colab": {
          "base_uri": "https://localhost:8080/"
        },
        "collapsed": true,
        "id": "5qoXMzfAMRqQ",
        "outputId": "64090e3b-ee03-4b72-a625-b99382db3133"
      },
      "outputs": [
        {
          "name": "stdout",
          "output_type": "stream",
          "text": [
            "Shape of the sparse adjacency matrix: (1919, 1919)\n"
          ]
        }
      ],
      "source": [
        "num_cities = len(df)\n",
        "k = 6\n",
        "\n",
        "# Fit the model on the geographical coordinates\n",
        "X = df[['latitude', 'longitude']]\n",
        "nn = NearestNeighbors(n_neighbors=k, algorithm='ball_tree').fit(X)\n",
        "\n",
        "# Find the 5 nearest neighbors\n",
        "distances, indices = nn.kneighbors(X)\n",
        "\n",
        "rows, cols, data = [], [], []\n",
        "seen_edges = set()\n",
        "\n",
        "for i in range(num_cities):\n",
        "    for j in range(1, k):\n",
        "        n_index = indices[i, j]\n",
        "\n",
        "        #check if updated before\n",
        "        edge = frozenset((i, n_index))\n",
        "        if edge in seen_edges:\n",
        "            continue\n",
        "        seen_edges.add(edge)\n",
        "\n",
        "        #If not calc distance\n",
        "        n_distance = distances[i, j]\n",
        "\n",
        "        #Add data in both ways to make it undirected\n",
        "        rows.append(i); cols.append(n_index); data.append(n_distance)\n",
        "        rows.append(n_index); cols.append(i); data.append(n_distance)\n",
        "\n",
        "sparse_matrix = csr_matrix((data, (rows, cols)), shape=(num_cities, num_cities))\n",
        "\n",
        "print(\"Shape of the sparse adjacency matrix:\", sparse_matrix.shape)"
      ]
    },
    {
      "cell_type": "code",
      "execution_count": 68,
      "metadata": {
        "colab": {
          "base_uri": "https://localhost:8080/"
        },
        "id": "8npyy8uTSYRG",
        "outputId": "82d45a1d-c000-4e24-d6a3-539e5391a705"
      },
      "outputs": [
        {
          "name": "stdout",
          "output_type": "stream",
          "text": [
            "\n",
            "First 10 rows and their non-zero entries (neighbors and distances):\n",
            "Row 0: [(np.int32(19), np.float64(0.10280801203432574)), (np.int32(20), np.float64(0.07630243464241533)), (np.int32(32), np.float64(0.09008373774760883)), (np.int32(33), np.float64(0.10312854912632105)), (np.int32(237), np.float64(0.025839241107277235)), (np.int32(256), np.float64(0.019672846708092478))]\n",
            "Row 1: [(np.int32(3), np.float64(0.0910322710384622)), (np.int32(15), np.float64(0.09149139670707118)), (np.int32(24), np.float64(0.07909985753767391)), (np.int32(34), np.float64(0.07288142004886898)), (np.int32(857), np.float64(0.07483869999999992))]\n",
            "Row 2: [(np.int32(6), np.float64(0.10433288545808693)), (np.int32(13), np.float64(0.18960060676363566)), (np.int32(14), np.float64(0.16315676726547387)), (np.int32(35), np.float64(0.14410087188900797)), (np.int32(736), np.float64(0.15465547323990886)), (np.int32(1287), np.float64(0.14722019989906115))]\n",
            "Row 3: [(np.int32(1), np.float64(0.0910322710384622)), (np.int32(5), np.float64(0.1434254019599354)), (np.int32(18), np.float64(0.08574358274022831)), (np.int32(29), np.float64(0.10378444672748054)), (np.int32(34), np.float64(0.06702854067275985)), (np.int32(254), np.float64(0.10895002554845554))]\n",
            "Row 4: [(np.int32(12), np.float64(0.06822785104940655)), (np.int32(21), np.float64(0.06688305968554638)), (np.int32(30), np.float64(0.1005036676395466)), (np.int32(172), np.float64(0.08523619765065339)), (np.int32(1300), np.float64(0.11906314399518725))]\n",
            "Row 5: [(np.int32(3), np.float64(0.1434254019599354)), (np.int32(17), np.float64(0.1027145131650356)), (np.int32(34), np.float64(0.10180341973376737)), (np.int32(264), np.float64(0.1599994008309083)), (np.int32(1300), np.float64(0.14824395659217002))]\n",
            "Row 6: [(np.int32(2), np.float64(0.10433288545808693)), (np.int32(14), np.float64(0.08830377098862335)), (np.int32(23), np.float64(0.22975540939079175)), (np.int32(27), np.float64(0.18382867699357852)), (np.int32(1278), np.float64(0.1467369784103509)), (np.int32(1287), np.float64(0.12451215817761711)), (np.int32(1309), np.float64(0.09620864048187168)), (np.int32(1317), np.float64(0.16622657347467187))]\n",
            "Row 7: [(np.int32(9), np.float64(0.020349275732074703)), (np.int32(18), np.float64(0.06605008151954772)), (np.int32(25), np.float64(0.05910833342405847)), (np.int32(28), np.float64(0.0037915017631557518)), (np.int32(29), np.float64(0.05406130353626062)), (np.int32(1618), np.float64(0.061906220437848734))]\n",
            "Row 8: [(np.int32(25), np.float64(0.045778337408103977)), (np.int32(244), np.float64(0.035889790363277725)), (np.int32(251), np.float64(0.015535722250994241)), (np.int32(254), np.float64(0.04308385017382163)), (np.int32(259), np.float64(0.03700104644209422)), (np.int32(270), np.float64(0.06635220522492322)), (np.int32(1618), np.float64(0.04632189443556866))]\n",
            "Row 9: [(np.int32(7), np.float64(0.020349275732074703)), (np.int32(19), np.float64(0.05820263844260249)), (np.int32(20), np.float64(0.0847779964387601)), (np.int32(25), np.float64(0.07940667065863882)), (np.int32(28), np.float64(0.016909392610025536)), (np.int32(29), np.float64(0.05034912040959338))]\n"
          ]
        }
      ],
      "source": [
        "print(\"\\nFirst 10 rows and their non-zero entries (neighbors and distances):\")\n",
        "\n",
        "for i in range(min(10, num_cities)):\n",
        "    row_data = sparse_matrix.getrow(i)\n",
        "    print(f\"Row {i}: {list(zip(row_data.indices, row_data.data))}\")"
      ]
    },
    {
      "cell_type": "markdown",
      "metadata": {
        "id": "yUjXkeXUh550"
      },
      "source": [
        "#A* Algorithm for shortest path"
      ]
    },
    {
      "cell_type": "code",
      "execution_count": 69,
      "metadata": {
        "id": "e0hylnQ8h-l-"
      },
      "outputs": [],
      "source": [
        "def dist_index(index1, index2):\n",
        "    lat1 = df.loc[index1, 'latitude']\n",
        "    lon1 = df.loc[index1, 'longitude']\n",
        "    lat2 = df.loc[index2, 'latitude']\n",
        "    lon2 = df.loc[index2, 'longitude']\n",
        "\n",
        "    return dist(lat1, lon1, lat2, lon2)"
      ]
    },
    {
      "cell_type": "code",
      "execution_count": 70,
      "metadata": {
        "id": "e36uQWWzJrYv"
      },
      "outputs": [],
      "source": [
        "def haversine(lat1, lon1, lat2, lon2):\n",
        "    R = 6371.0088  # Earth's radius in km\n",
        "    phi1 = math.radians(lat1); phi2 = math.radians(lat2)\n",
        "    dphi = math.radians(lat2 - lat1); dlambda = math.radians(lon2 - lon1)\n",
        "    a = math.sin(dphi/2.0)**2 + math.cos(phi1) * math.cos(phi2) * math.sin(dlambda/2.0)**2\n",
        "    a = min(1.0, max(0.0, a))  # safety\n",
        "    return 2 * R * math.asin(math.sqrt(a))"
      ]
    },
    {
      "cell_type": "code",
      "execution_count": null,
      "metadata": {},
      "outputs": [],
      "source": []
    },
    {
      "cell_type": "code",
      "execution_count": 71,
      "metadata": {
        "id": "-y67bmNgk9Z9"
      },
      "outputs": [],
      "source": [
        "def get_neighbors(city_index):\n",
        "    row_data = sparse_matrix.getrow(city_index)\n",
        "    return list(row_data.indices)\n",
        "\n",
        "#print(get_neighbors(0))"
      ]
    },
    {
      "cell_type": "code",
      "execution_count": 72,
      "metadata": {
        "id": "d267aa24"
      },
      "outputs": [],
      "source": [
        "def astar(start_index, end_index, sparse_matrix):\n",
        "\n",
        "    open_set = []\n",
        "    heapq.heappush(open_set, (0, 0, start_index, [start_index]))\n",
        "\n",
        "    g_costs = {start_index: 0}\n",
        "    came_from = {}\n",
        "\n",
        "    while open_set:\n",
        "        #pop the top heap element and assign tuple to variables\n",
        "        f_cost, current_distance, current_index, path = heapq.heappop(open_set)\n",
        "\n",
        "        #Check if reached\n",
        "        if current_index == end_index:\n",
        "            return path, current_distance\n",
        "\n",
        "        neighbors = get_neighbors(current_index)\n",
        "\n",
        "        for neighbor_index in neighbors:\n",
        "            #goal cost = current node cost + current node to neighbor cost\n",
        "            #goal cost = current node codt + sparse matrix[row,column]\n",
        "            tentative_g_cost = current_distance + sparse_matrix[current_index, neighbor_index]\n",
        "\n",
        "            if neighbor_index not in g_costs or tentative_g_cost < g_costs[neighbor_index]:\n",
        "                #add g_cost to the node position at g_cost tuple - to check if explored\n",
        "                g_costs[neighbor_index] = tentative_g_cost\n",
        "\n",
        "                #h-cost (heuristic cost)\n",
        "                heuristic = dist_index(neighbor_index, end_index)\n",
        "                #f-cost = steps  + travelled distance\n",
        "                #f-cost = h_cost + g_cost\n",
        "                f_cost = tentative_g_cost + heuristic\n",
        "                #add origin to the neighbour index\n",
        "                came_from[neighbor_index] = current_index\n",
        "                heapq.heappush(open_set, (f_cost, tentative_g_cost, neighbor_index, path + [neighbor_index]))\n",
        "\n",
        "    return None, None\n"
      ]
    },
    {
      "cell_type": "code",
      "execution_count": 73,
      "metadata": {},
      "outputs": [],
      "source": [
        "def a_star(sparse_matrix, start, goal, df):\n",
        "    def heuristic(n1, n2):\n",
        "        return haversine(df.loc[n1,'latitude'], df.loc[n1,'longitude'],\n",
        "                        df.loc[n2,'latitude'], df.loc[n2,'longitude'])\n",
        "\n",
        "    open_set = [(heuristic(start, goal), 0, start, [start])]\n",
        "    g_costs = {start: 0}\n",
        "\n",
        "    while open_set:\n",
        "        f_cost, current_dist, current_node, path = heapq.heappop(open_set)\n",
        "        if current_node == goal:\n",
        "            return path, current_dist\n",
        "        \n",
        "        row = sparse_matrix.getrow(current_node)\n",
        "        for neighbor, weight in zip(row.indices, row.data):\n",
        "            tentative_g = current_dist + weight\n",
        "            if neighbor not in g_costs or tentative_g < g_costs[neighbor]:\n",
        "                g_costs[neighbor] = tentative_g\n",
        "                new_f = tentative_g + heuristic(neighbor, goal)\n",
        "                heapq.heappush(open_set, (new_f, tentative_g, neighbor, path+[neighbor]))\n",
        "    \n",
        "    return None, None"
      ]
    },
    {
      "cell_type": "code",
      "execution_count": 78,
      "metadata": {
        "id": "169ed000"
      },
      "outputs": [],
      "source": [
        "start_city_index = 200\n",
        "end_city_index = 0\n",
        "\n",
        "shortest_path, total_distance = a_star(sparse_matrix,start_city_index, end_city_index,df)"
      ]
    },
    {
      "cell_type": "code",
      "execution_count": 79,
      "metadata": {
        "colab": {
          "base_uri": "https://localhost:8080/"
        },
        "id": "d7ed71c5",
        "outputId": "2ca6ab80-fe5e-467c-8ac3-55832bf2e49b"
      },
      "outputs": [
        {
          "name": "stdout",
          "output_type": "stream",
          "text": [
            "Shortest path found:\n",
            "Madulsima -> Pallekiruwa -> Medagana -> Pangura -> Dambagalla -> Uva Gangodagama -> Kandaudapanguwa -> Bakmitiyawa -> Madawalalanda -> Irakkamam -> Navatkadu -> Akkaraipattu -> \n",
            "Total distance: 111.91km\n"
          ]
        }
      ],
      "source": [
        "if shortest_path:\n",
        "    print(\"Shortest path found:\")\n",
        "    for city_index in shortest_path:\n",
        "        city_name = df.loc[city_index, 'name_en']\n",
        "        print(f\"{city_name}\",end=\" -> \")\n",
        "\n",
        "    print(f\"\\nTotal distance: {dist2km(total_distance):.2f}km\")\n",
        "else:\n",
        "    print(f\"No path found between city index {start_city_index} and {end_city_index}.\")"
      ]
    }
  ],
  "metadata": {
    "colab": {
      "include_colab_link": true,
      "provenance": []
    },
    "kernelspec": {
      "display_name": ".venv",
      "language": "python",
      "name": "python3"
    },
    "language_info": {
      "codemirror_mode": {
        "name": "ipython",
        "version": 3
      },
      "file_extension": ".py",
      "mimetype": "text/x-python",
      "name": "python",
      "nbconvert_exporter": "python",
      "pygments_lexer": "ipython3",
      "version": "3.12.3"
    }
  },
  "nbformat": 4,
  "nbformat_minor": 0
}
