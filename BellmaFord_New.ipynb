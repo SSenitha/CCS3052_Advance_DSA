{
  "cells": [
    {
      "cell_type": "markdown",
      "metadata": {
        "colab_type": "text",
        "id": "view-in-github"
      },
      "source": [
        "<a href=\"https://colab.research.google.com/github/SSenitha/CCS3052_Advance_DSA/blob/Aashi/BellmaFord_New.ipynb\" target=\"_parent\"><img src=\"https://colab.research.google.com/assets/colab-badge.svg\" alt=\"Open In Colab\"/></a>"
      ]
    },
    {
      "cell_type": "markdown",
      "metadata": {
        "id": "Qvk96rh7PxPX"
      },
      "source": [
        "#Import Dataset"
      ]
    },
    {
      "cell_type": "code",
      "execution_count": 34,
      "metadata": {
        "colab": {
          "base_uri": "https://localhost:8080/"
        },
        "id": "2bSqu6WggF4A",
        "outputId": "e6c8f058-bda3-4ce1-c969-7d82ebaa54a2"
      },
      "outputs": [
        {
          "name": "stderr",
          "output_type": "stream",
          "text": [
            "'wget' is not recognized as an internal or external command,\n",
            "operable program or batch file.\n"
          ]
        }
      ],
      "source": [
        "# Load data from the repository\n",
        "!wget https://raw.githubusercontent.com/SSenitha/CCS3052_Advance_DSA/refs/heads/main/Cities_of_SriLanka.csv"
      ]
    },
    {
      "cell_type": "code",
      "execution_count": 35,
      "metadata": {
        "id": "2LAkN4BjvBCq"
      },
      "outputs": [],
      "source": [
        "#Import necessary libraries\n",
        "\n",
        "import math, time, heapq\n",
        "import pandas as pd\n",
        "import numpy as np\n",
        "import seaborn as sns\n",
        "import matplotlib.pyplot as plt\n",
        "from scipy.stats import stats\n",
        "from sklearn.neighbors import NearestNeighbors\n",
        "from scipy.sparse import csr_matrix\n",
        "\n",
        "from collections import defaultdict\n",
        "from sklearn.neighbors import BallTree"
      ]
    },
    {
      "cell_type": "code",
      "execution_count": 36,
      "metadata": {
        "colab": {
          "base_uri": "https://localhost:8080/",
          "height": 223
        },
        "id": "vTHi0Oatu8g2",
        "outputId": "7bcdc880-15d3-43e9-fe8c-72e3d2b9617b"
      },
      "outputs": [
        {
          "name": "stdout",
          "output_type": "stream",
          "text": [
            "Total rows count: 2155\n"
          ]
        },
        {
          "data": {
            "text/html": [
              "<div>\n",
              "<style scoped>\n",
              "    .dataframe tbody tr th:only-of-type {\n",
              "        vertical-align: middle;\n",
              "    }\n",
              "\n",
              "    .dataframe tbody tr th {\n",
              "        vertical-align: top;\n",
              "    }\n",
              "\n",
              "    .dataframe thead th {\n",
              "        text-align: right;\n",
              "    }\n",
              "</style>\n",
              "<table border=\"1\" class=\"dataframe\">\n",
              "  <thead>\n",
              "    <tr style=\"text-align: right;\">\n",
              "      <th></th>\n",
              "      <th>city_id</th>\n",
              "      <th>district_id</th>\n",
              "      <th>name_en</th>\n",
              "      <th>name_si</th>\n",
              "      <th>name_ta</th>\n",
              "      <th>sub_name_en</th>\n",
              "      <th>sub_name_si</th>\n",
              "      <th>sub_name_ta</th>\n",
              "      <th>postcode</th>\n",
              "      <th>latitude</th>\n",
              "      <th>longitude</th>\n",
              "    </tr>\n",
              "  </thead>\n",
              "  <tbody>\n",
              "    <tr>\n",
              "      <th>0</th>\n",
              "      <td>1</td>\n",
              "      <td>1</td>\n",
              "      <td>Akkaraipattu</td>\n",
              "      <td>අක්කරපත්තුව</td>\n",
              "      <td>அக்கரைப்பற்று</td>\n",
              "      <td>NULL</td>\n",
              "      <td>NULL</td>\n",
              "      <td>NULL</td>\n",
              "      <td>32400.0</td>\n",
              "      <td>7.218428</td>\n",
              "      <td>81.854116</td>\n",
              "    </tr>\n",
              "    <tr>\n",
              "      <th>1</th>\n",
              "      <td>2</td>\n",
              "      <td>1</td>\n",
              "      <td>Ambagahawatta</td>\n",
              "      <td>අඹගහවත්ත</td>\n",
              "      <td>அம்பகஹவத்த</td>\n",
              "      <td>NULL</td>\n",
              "      <td>NULL</td>\n",
              "      <td>NULL</td>\n",
              "      <td>90326.0</td>\n",
              "      <td>7.301756</td>\n",
              "      <td>81.674729</td>\n",
              "    </tr>\n",
              "    <tr>\n",
              "      <th>2</th>\n",
              "      <td>3</td>\n",
              "      <td>1</td>\n",
              "      <td>Ampara</td>\n",
              "      <td>අම්පාර</td>\n",
              "      <td>அம்பாறை</td>\n",
              "      <td>NULL</td>\n",
              "      <td>NULL</td>\n",
              "      <td>NULL</td>\n",
              "      <td>32000.0</td>\n",
              "      <td>7.301756</td>\n",
              "      <td>81.674729</td>\n",
              "    </tr>\n",
              "    <tr>\n",
              "      <th>3</th>\n",
              "      <td>4</td>\n",
              "      <td>1</td>\n",
              "      <td>Bakmitiyawa</td>\n",
              "      <td>බක්මිටියාව</td>\n",
              "      <td>பக்மிடியாவ</td>\n",
              "      <td>NULL</td>\n",
              "      <td>NULL</td>\n",
              "      <td>NULL</td>\n",
              "      <td>32024.0</td>\n",
              "      <td>7.029632</td>\n",
              "      <td>81.680205</td>\n",
              "    </tr>\n",
              "    <tr>\n",
              "      <th>4</th>\n",
              "      <td>5</td>\n",
              "      <td>1</td>\n",
              "      <td>Deegawapiya</td>\n",
              "      <td>දීඝවාපිය</td>\n",
              "      <td>தீகவாபி</td>\n",
              "      <td>NULL</td>\n",
              "      <td>NULL</td>\n",
              "      <td>NULL</td>\n",
              "      <td>32006.0</td>\n",
              "      <td>7.301756</td>\n",
              "      <td>81.674729</td>\n",
              "    </tr>\n",
              "  </tbody>\n",
              "</table>\n",
              "</div>"
            ],
            "text/plain": [
              "   city_id  district_id        name_en      name_si        name_ta  \\\n",
              "0        1            1   Akkaraipattu  අක්කරපත්තුව  அக்கரைப்பற்று   \n",
              "1        2            1  Ambagahawatta     අඹගහවත්ත     அம்பகஹவத்த   \n",
              "2        3            1         Ampara       අම්පාර        அம்பாறை   \n",
              "3        4            1    Bakmitiyawa   බක්මිටියාව     பக்மிடியாவ   \n",
              "4        5            1    Deegawapiya     දීඝවාපිය        தீகவாபி   \n",
              "\n",
              "  sub_name_en sub_name_si sub_name_ta  postcode  latitude  longitude  \n",
              "0        NULL        NULL        NULL   32400.0  7.218428  81.854116  \n",
              "1        NULL        NULL        NULL   90326.0  7.301756  81.674729  \n",
              "2        NULL        NULL        NULL   32000.0  7.301756  81.674729  \n",
              "3        NULL        NULL        NULL   32024.0  7.029632  81.680205  \n",
              "4        NULL        NULL        NULL   32006.0  7.301756  81.674729  "
            ]
          },
          "execution_count": 36,
          "metadata": {},
          "output_type": "execute_result"
        }
      ],
      "source": [
        "# Read the dataset and output the total count\n",
        "#df = pd.read_csv('/content/Cities_of_SriLanka.csv')\n",
        "\n",
        "#----------------For VS Code----------------\n",
        "df = pd.read_csv('./Cities_of_SriLanka.csv')\n",
        "#-------------------------------------------\n",
        "print(f\"Total rows count: {df['city id'].count()}\")\n",
        "df.rename(columns={\"city id\": \"city_id\"}, inplace=True)\n",
        "df.head()"
      ]
    },
    {
      "cell_type": "code",
      "execution_count": 37,
      "metadata": {
        "colab": {
          "base_uri": "https://localhost:8080/"
        },
        "id": "wAx45xzby2On",
        "outputId": "789b605e-4560-4350-baa6-433ebfe5e467"
      },
      "outputs": [
        {
          "name": "stdout",
          "output_type": "stream",
          "text": [
            "Total rows count after dropping duplicates: 1919\n"
          ]
        }
      ],
      "source": [
        "#Remove the Cities with little to no geographical difference\n",
        "\n",
        "df = df.drop_duplicates(subset=['latitude', 'longitude'], keep='first').reset_index(drop=True)\n",
        "print(f\"Total rows count after dropping duplicates: {df['city_id'].count()}\")"
      ]
    },
    {
      "cell_type": "code",
      "execution_count": 38,
      "metadata": {
        "id": "5qd_9dM11Shc"
      },
      "outputs": [],
      "source": [
        "#Dropping the columns that won't be used in the making of graph/Matrix\n",
        "df = df.drop(columns=[\"district_id\",\"name_si\",\"name_ta\",\"sub_name_en\",\"sub_name_si\",\"sub_name_ta\",\"postcode\"])"
      ]
    },
    {
      "cell_type": "code",
      "execution_count": 39,
      "metadata": {
        "id": "Jg8rsN22YrB3"
      },
      "outputs": [],
      "source": [
        "def resetIndex():\n",
        "  df.drop(columns=[\"city_id\"], inplace=True)\n",
        "  df.insert(0, \"city_id\", df.index)\n",
        "  return df"
      ]
    },
    {
      "cell_type": "code",
      "execution_count": 40,
      "metadata": {
        "colab": {
          "base_uri": "https://localhost:8080/",
          "height": 206
        },
        "id": "lUJXb9YD03LC",
        "outputId": "2a6011df-caa6-4265-b67e-3240ead50616"
      },
      "outputs": [
        {
          "data": {
            "text/html": [
              "<div>\n",
              "<style scoped>\n",
              "    .dataframe tbody tr th:only-of-type {\n",
              "        vertical-align: middle;\n",
              "    }\n",
              "\n",
              "    .dataframe tbody tr th {\n",
              "        vertical-align: top;\n",
              "    }\n",
              "\n",
              "    .dataframe thead th {\n",
              "        text-align: right;\n",
              "    }\n",
              "</style>\n",
              "<table border=\"1\" class=\"dataframe\">\n",
              "  <thead>\n",
              "    <tr style=\"text-align: right;\">\n",
              "      <th></th>\n",
              "      <th>city_id</th>\n",
              "      <th>name_en</th>\n",
              "      <th>latitude</th>\n",
              "      <th>longitude</th>\n",
              "    </tr>\n",
              "  </thead>\n",
              "  <tbody>\n",
              "    <tr>\n",
              "      <th>0</th>\n",
              "      <td>0</td>\n",
              "      <td>Akkaraipattu</td>\n",
              "      <td>7.218428</td>\n",
              "      <td>81.854116</td>\n",
              "    </tr>\n",
              "    <tr>\n",
              "      <th>1</th>\n",
              "      <td>1</td>\n",
              "      <td>Ambagahawatta</td>\n",
              "      <td>7.301756</td>\n",
              "      <td>81.674729</td>\n",
              "    </tr>\n",
              "    <tr>\n",
              "      <th>2</th>\n",
              "      <td>2</td>\n",
              "      <td>Bakmitiyawa</td>\n",
              "      <td>7.029632</td>\n",
              "      <td>81.680205</td>\n",
              "    </tr>\n",
              "    <tr>\n",
              "      <th>3</th>\n",
              "      <td>3</td>\n",
              "      <td>Digamadulla Weeragoda</td>\n",
              "      <td>7.390125</td>\n",
              "      <td>81.696588</td>\n",
              "    </tr>\n",
              "    <tr>\n",
              "      <th>4</th>\n",
              "      <td>4</td>\n",
              "      <td>Dorakumbura</td>\n",
              "      <td>7.358870</td>\n",
              "      <td>81.301428</td>\n",
              "    </tr>\n",
              "  </tbody>\n",
              "</table>\n",
              "</div>"
            ],
            "text/plain": [
              "   city_id                name_en  latitude  longitude\n",
              "0        0           Akkaraipattu  7.218428  81.854116\n",
              "1        1          Ambagahawatta  7.301756  81.674729\n",
              "2        2            Bakmitiyawa  7.029632  81.680205\n",
              "3        3  Digamadulla Weeragoda  7.390125  81.696588\n",
              "4        4            Dorakumbura  7.358870  81.301428"
            ]
          },
          "execution_count": 40,
          "metadata": {},
          "output_type": "execute_result"
        }
      ],
      "source": [
        "resetIndex()\n",
        "df.head()"
      ]
    },
    {
      "cell_type": "markdown",
      "metadata": {
        "id": "zVQgWI8CMj9I"
      },
      "source": [
        "#Adjacency/Sparse Matrix Approach"
      ]
    },
    {
      "cell_type": "code",
      "execution_count": 41,
      "metadata": {
        "colab": {
          "base_uri": "https://localhost:8080/",
          "height": 70
        },
        "id": "080qnUobn9iJ",
        "outputId": "4e47579f-3aa4-43bd-93dc-a97e4cb5d522"
      },
      "outputs": [
        {
          "data": {
            "text/plain": [
              "'\\ndef dist(lat1, lon1, lat2, lon2):\\n    R = 6371   # Radius of Earth\\n\\n    # Convert degrees into radians\\n    lat1, lon1, lat2, lon2 = map(math.radians, [lat1, lon1, lat2, lon2])\\n\\n    dlat = lat2 - lat1\\n    dlon = lon2 - lon1\\n\\n    #Calculate the linear distance between two points\\n    distance = dlat ** 2 + dlon ** 2\\n    distance = math.sqrt(distance)\\n\\n    # Calculate spherical distance\\n    a = math.asin(distance/(2*R))\\n    c = R * 2 * math.asin(math.sqrt(a))\\n\\n    return c\\n    '"
            ]
          },
          "execution_count": 41,
          "metadata": {},
          "output_type": "execute_result"
        }
      ],
      "source": [
        "import math\n",
        "\n",
        "def dist(lat1, lon1, lat2, lon2):\n",
        "    #Haversine formula for spherical distances\n",
        "    R = 6371.0088\n",
        "\n",
        "    phi1 = math.radians(lat1); phi2 = math.radians(lat2)\n",
        "    dphi = math.radians(lat2 - lat1); dlambda = math.radians(lon2 - lon1)\n",
        "\n",
        "    a = math.sin(dphi/2.0)**2 + math.cos(phi1) * math.cos(phi2) * math.sin(dlambda/2.0)**2\n",
        "    a = min(1.0, max(0.0, a))\n",
        "    return 2 * R * math.asin(math.sqrt(a))\n",
        "\n",
        "\n",
        "'''\n",
        "def dist(lat1, lon1, lat2, lon2):\n",
        "    R = 6371   # Radius of Earth\n",
        "\n",
        "    # Convert degrees into radians\n",
        "    lat1, lon1, lat2, lon2 = map(math.radians, [lat1, lon1, lat2, lon2])\n",
        "\n",
        "    dlat = lat2 - lat1\n",
        "    dlon = lon2 - lon1\n",
        "\n",
        "    #Calculate the linear distance between two points\n",
        "    distance = dlat ** 2 + dlon ** 2\n",
        "    distance = math.sqrt(distance)\n",
        "\n",
        "    # Calculate spherical distance\n",
        "    a = math.asin(distance/(2*R))\n",
        "    c = R * 2 * math.asin(math.sqrt(a))\n",
        "\n",
        "    return c\n",
        "    '''\n"
      ]
    },
    {
      "cell_type": "code",
      "execution_count": 42,
      "metadata": {
        "colab": {
          "base_uri": "https://localhost:8080/"
        },
        "collapsed": true,
        "id": "5qoXMzfAMRqQ",
        "outputId": "6854b3a4-c785-4e06-961f-cf70f6ffd5c3"
      },
      "outputs": [
        {
          "name": "stdout",
          "output_type": "stream",
          "text": [
            "Shape of the sparse adjacency matrix: (1919, 1919)\n"
          ]
        }
      ],
      "source": [
        "from scipy.sparse import csr_matrix\n",
        "\n",
        "num_cities = len(df)\n",
        "k = 6\n",
        "\n",
        "# Fit the model on the geographical coordinates\n",
        "X = df[['latitude', 'longitude']]\n",
        "nn = NearestNeighbors(n_neighbors=k, algorithm='ball_tree').fit(X)\n",
        "\n",
        "# Find the 5 nearest neighbors\n",
        "distances, indices = nn.kneighbors(X)\n",
        "\n",
        "rows, cols, data = [], [], []\n",
        "seen_edges = set()\n",
        "\n",
        "for i in range(num_cities):\n",
        "    for j in range(1, k):\n",
        "        n_index = indices[i, j]\n",
        "\n",
        "        #check if updated before\n",
        "        edge = frozenset((i, n_index))\n",
        "        if edge in seen_edges:\n",
        "            continue\n",
        "        seen_edges.add(edge)\n",
        "\n",
        "        #If not calc distance\n",
        "        n_distance = distances[i, j]\n",
        "\n",
        "        #Add data in both ways to make it undirected\n",
        "        rows.append(i); cols.append(n_index); data.append(n_distance)\n",
        "        rows.append(n_index); cols.append(i); data.append(n_distance)\n",
        "\n",
        "sparse_matrix = csr_matrix((data, (rows, cols)), shape=(num_cities, num_cities))\n",
        "\n",
        "print(\"Shape of the sparse adjacency matrix:\", sparse_matrix.shape)"
      ]
    },
    {
      "cell_type": "code",
      "execution_count": 43,
      "metadata": {
        "colab": {
          "base_uri": "https://localhost:8080/"
        },
        "id": "8npyy8uTSYRG",
        "outputId": "9df816fd-6759-4bc6-b136-85ed273270fe"
      },
      "outputs": [
        {
          "name": "stdout",
          "output_type": "stream",
          "text": [
            "\n",
            "First 10 rows and their non-zero entries (neighbors and distances):\n",
            "Row 0: [(np.int32(19), np.float64(0.10280801203432574)), (np.int32(20), np.float64(0.07630243464241533)), (np.int32(32), np.float64(0.09008373774760883)), (np.int32(33), np.float64(0.10312854912632105)), (np.int32(237), np.float64(0.025839241107277235)), (np.int32(256), np.float64(0.019672846708092478))]\n",
            "Row 1: [(np.int32(3), np.float64(0.0910322710384622)), (np.int32(15), np.float64(0.09149139670707118)), (np.int32(24), np.float64(0.07909985753767391)), (np.int32(34), np.float64(0.07288142004886898)), (np.int32(857), np.float64(0.07483869999999992))]\n",
            "Row 2: [(np.int32(6), np.float64(0.10433288545808693)), (np.int32(13), np.float64(0.18960060676363566)), (np.int32(14), np.float64(0.16315676726547387)), (np.int32(35), np.float64(0.14410087188900797)), (np.int32(736), np.float64(0.15465547323990886)), (np.int32(1287), np.float64(0.14722019989906115))]\n",
            "Row 3: [(np.int32(1), np.float64(0.0910322710384622)), (np.int32(5), np.float64(0.1434254019599354)), (np.int32(18), np.float64(0.08574358274022831)), (np.int32(29), np.float64(0.10378444672748054)), (np.int32(34), np.float64(0.06702854067275985)), (np.int32(254), np.float64(0.10895002554845554))]\n",
            "Row 4: [(np.int32(12), np.float64(0.06822785104940655)), (np.int32(21), np.float64(0.06688305968554638)), (np.int32(30), np.float64(0.1005036676395466)), (np.int32(172), np.float64(0.08523619765065339)), (np.int32(1300), np.float64(0.11906314399518725))]\n",
            "Row 5: [(np.int32(3), np.float64(0.1434254019599354)), (np.int32(17), np.float64(0.1027145131650356)), (np.int32(34), np.float64(0.10180341973376737)), (np.int32(264), np.float64(0.1599994008309083)), (np.int32(1300), np.float64(0.14824395659217002))]\n",
            "Row 6: [(np.int32(2), np.float64(0.10433288545808693)), (np.int32(14), np.float64(0.08830377098862335)), (np.int32(23), np.float64(0.22975540939079175)), (np.int32(27), np.float64(0.18382867699357852)), (np.int32(1278), np.float64(0.1467369784103509)), (np.int32(1287), np.float64(0.12451215817761711)), (np.int32(1309), np.float64(0.09620864048187168)), (np.int32(1317), np.float64(0.16622657347467187))]\n",
            "Row 7: [(np.int32(9), np.float64(0.020349275732074703)), (np.int32(18), np.float64(0.06605008151954772)), (np.int32(25), np.float64(0.05910833342405847)), (np.int32(28), np.float64(0.0037915017631557518)), (np.int32(29), np.float64(0.05406130353626062)), (np.int32(1618), np.float64(0.061906220437848734))]\n",
            "Row 8: [(np.int32(25), np.float64(0.045778337408103977)), (np.int32(244), np.float64(0.035889790363277725)), (np.int32(251), np.float64(0.015535722250994241)), (np.int32(254), np.float64(0.04308385017382163)), (np.int32(259), np.float64(0.03700104644209422)), (np.int32(270), np.float64(0.06635220522492322)), (np.int32(1618), np.float64(0.04632189443556866))]\n",
            "Row 9: [(np.int32(7), np.float64(0.020349275732074703)), (np.int32(19), np.float64(0.05820263844260249)), (np.int32(20), np.float64(0.0847779964387601)), (np.int32(25), np.float64(0.07940667065863882)), (np.int32(28), np.float64(0.016909392610025536)), (np.int32(29), np.float64(0.05034912040959338))]\n"
          ]
        }
      ],
      "source": [
        "print(\"\\nFirst 10 rows and their non-zero entries (neighbors and distances):\")\n",
        "\n",
        "for i in range(min(10, num_cities)):\n",
        "    row_data = sparse_matrix.getrow(i)\n",
        "    print(f\"Row {i}: {list(zip(row_data.indices, row_data.data))}\")"
      ]
    },
    {
      "cell_type": "markdown",
      "metadata": {
        "id": "PUZOR9JKpybw"
      },
      "source": [
        "Bellman - Ford Implementation"
      ]
    },
    {
      "cell_type": "code",
      "execution_count": 44,
      "metadata": {
        "colab": {
          "base_uri": "https://localhost:8080/"
        },
        "id": "MvL44YyLqA8E",
        "outputId": "fec77b0e-aaad-49d4-fac6-6ae7aa51e26c"
      },
      "outputs": [
        {
          "name": "stdout",
          "output_type": "stream",
          "text": [
            "Enter city names exactly as in 'name_en' column.\n",
            "\n",
            "Shortest path from Madulsima to Akkaraipattu:\n",
            "  1. Madulsima\n",
            "  2. Arawakumbura\n",
            "  3. Ayiwela\n",
            "  4. Pitakumbura\n",
            "  5. Nilgala\n",
            "  6. Inginiyagala\n",
            "  7. Pahalalanda\n",
            "  8. Hingurana\n",
            "  9. Irakkamam\n",
            "  10. Navatkadu\n",
            "  11. Akkaraipattu\n",
            "Total distance: 85.752 km\n"
          ]
        }
      ],
      "source": [
        "# Make sure required libs are imported\n",
        "import math\n",
        "import numpy as np\n",
        "from scipy.sparse import csr_matrix\n",
        "from sklearn.neighbors import NearestNeighbors\n",
        "\n",
        "# ---------- Haversine (km) ----------\n",
        "def haversine_km(lat1, lon1, lat2, lon2):\n",
        "    R = 6371.0088  # Earth's radius in km\n",
        "    phi1 = math.radians(lat1); phi2 = math.radians(lat2)\n",
        "    dphi = math.radians(lat2 - lat1); dlambda = math.radians(lon2 - lon1)\n",
        "    a = math.sin(dphi/2.0)**2 + math.cos(phi1) * math.cos(phi2) * math.sin(dlambda/2.0)**2\n",
        "    a = min(1.0, max(0.0, a))  # safety\n",
        "    return 2 * R * math.asin(math.sqrt(a))\n",
        "\n",
        "# ---------- Build k-NN graph with Haversine distances ----------\n",
        "def build_knn_graph_km(df, k=6, algorithm='ball_tree'):\n",
        "    X = df[['latitude', 'longitude']].values\n",
        "    num_nodes = len(df)\n",
        "    nn = NearestNeighbors(n_neighbors=k, algorithm=algorithm).fit(X)\n",
        "    _, indices = nn.kneighbors(X)\n",
        "\n",
        "    rows, cols, data = [], [], []\n",
        "    seen_edges = set()\n",
        "\n",
        "    for i in range(num_nodes):\n",
        "        for j in range(1, k):\n",
        "            n_index = int(indices[i, j])\n",
        "            edge = frozenset((i, n_index))\n",
        "            if edge in seen_edges:\n",
        "                continue\n",
        "            seen_edges.add(edge)\n",
        "\n",
        "            lat1, lon1 = float(df.iloc[i]['latitude']), float(df.iloc[i]['longitude'])\n",
        "            lat2, lon2 = float(df.iloc[n_index]['latitude']), float(df.iloc[n_index]['longitude'])\n",
        "            d_km = haversine_km(lat1, lon1, lat2, lon2)\n",
        "\n",
        "            rows.append(i); cols.append(n_index); data.append(d_km)\n",
        "            rows.append(n_index); cols.append(i); data.append(d_km)\n",
        "\n",
        "    return csr_matrix((data, (rows, cols)), shape=(num_nodes, num_nodes)), num_nodes\n",
        "\n",
        "# ---------- Bellman-Ford ----------\n",
        "def build_edge_list_from_sparse(sparse_mat):\n",
        "    coo = sparse_mat.tocoo()\n",
        "    return [(int(u), int(v), float(w)) for u, v, w in zip(coo.row, coo.col, coo.data)]\n",
        "\n",
        "def bellman_ford(num_nodes, edges, start):\n",
        "    INF = float('inf')\n",
        "    dist = [INF] * num_nodes\n",
        "    pred = [None] * num_nodes\n",
        "    dist[start] = 0.0\n",
        "\n",
        "    for _ in range(num_nodes - 1):\n",
        "        updated = False\n",
        "        for u, v, w in edges:\n",
        "            if dist[u] != INF and dist[u] + w < dist[v]:\n",
        "                dist[v] = dist[u] + w\n",
        "                pred[v] = u\n",
        "                updated = True\n",
        "        if not updated:\n",
        "            break\n",
        "\n",
        "    for u, v, w in edges:\n",
        "        if dist[u] != INF and dist[u] + w < dist[v]:\n",
        "            raise RuntimeError(\"Negative-weight cycle detected\")\n",
        "\n",
        "    return dist, pred\n",
        "\n",
        "def reconstruct_path(pred, start, target):\n",
        "    path = []\n",
        "    cur = target\n",
        "    while cur is not None:\n",
        "        path.append(cur)\n",
        "        if cur == start:\n",
        "            break\n",
        "        cur = pred[cur]\n",
        "    path.reverse()\n",
        "    return path if path[0] == start else []\n",
        "\n",
        "# ---------- Shortest path wrapper ----------\n",
        "def shortest_path_between(df, sparse_matrix_km, start_name, target_name):\n",
        "    start_matches = df.index[df['name_en'] == start_name].tolist()\n",
        "    target_matches = df.index[df['name_en'] == target_name].tolist()\n",
        "    if not start_matches or not target_matches:\n",
        "        raise ValueError(\"One or both city names not found\")\n",
        "\n",
        "    start, target = start_matches[0], target_matches[0]\n",
        "    edges = build_edge_list_from_sparse(sparse_matrix_km)\n",
        "    dist, pred = bellman_ford(len(df), edges, start)\n",
        "\n",
        "    if dist[target] == float('inf'):\n",
        "        print(\"No path found.\")\n",
        "        return\n",
        "\n",
        "    path_idx = reconstruct_path(pred, start, target)\n",
        "    path_names = [df.loc[i, 'name_en'] for i in path_idx]\n",
        "\n",
        "    print(f\"\\nShortest path from {start_name} to {target_name}:\")\n",
        "    for i, city in enumerate(path_names, 1):\n",
        "        print(f\"  {i}. {city}\")\n",
        "    print(f\"Total distance: {dist[target]:.3f} km\")\n",
        "\n",
        "# ---------- MAIN PROGRAM ----------\n",
        "# Build the graph\n",
        "sparse_matrix_km, num_nodes = build_knn_graph_km(df, k=6)\n",
        "\n",
        "# Ask user for input once the program starts\n",
        "print(\"Enter city names exactly as in 'name_en' column.\")\n",
        "start_city = input(\"Start city: \").strip()\n",
        "end_city = input(\"End city: \").strip()\n",
        "\n",
        "# Run Bellman-Ford shortest path\n",
        "try:\n",
        "    shortest_path_between(df, sparse_matrix_km, start_city, end_city)\n",
        "except Exception as e:\n",
        "    print(\"Error:\", e)\n"
      ]
    }
  ],
  "metadata": {
    "colab": {
      "include_colab_link": true,
      "provenance": []
    },
    "kernelspec": {
      "display_name": ".venv",
      "language": "python",
      "name": "python3"
    },
    "language_info": {
      "codemirror_mode": {
        "name": "ipython",
        "version": 3
      },
      "file_extension": ".py",
      "mimetype": "text/x-python",
      "name": "python",
      "nbconvert_exporter": "python",
      "pygments_lexer": "ipython3",
      "version": "3.12.3"
    }
  },
  "nbformat": 4,
  "nbformat_minor": 0
}
