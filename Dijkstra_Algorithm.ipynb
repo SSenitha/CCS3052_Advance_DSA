{
  "cells": [
    {
      "cell_type": "markdown",
      "metadata": {
        "colab_type": "text",
        "id": "view-in-github"
      },
      "source": [
        "<a href=\"https://colab.research.google.com/github/SSenitha/CCS3052_Advance_DSA/blob/Dilini-s-Branch/Dijkstra_Algorithm.ipynb\" target=\"_parent\"><img src=\"https://colab.research.google.com/assets/colab-badge.svg\" alt=\"Open In Colab\"/></a>"
      ]
    },
    {
      "cell_type": "markdown",
      "metadata": {
        "id": "Qvk96rh7PxPX"
      },
      "source": [
        "#Import Dataset"
      ]
    },
    {
      "cell_type": "code",
      "execution_count": 43,
      "metadata": {
        "colab": {
          "base_uri": "https://localhost:8080/"
        },
        "id": "2bSqu6WggF4A",
        "outputId": "a5f8f1c9-6054-49a3-9eb4-f8125ff5e758"
      },
      "outputs": [
        {
          "name": "stderr",
          "output_type": "stream",
          "text": [
            "'wget' is not recognized as an internal or external command,\n",
            "operable program or batch file.\n"
          ]
        }
      ],
      "source": [
        "# Load data from the repository\n",
        "!wget https://raw.githubusercontent.com/SSenitha/CCS3052_Advance_DSA/refs/heads/main/Cities_of_SriLanka.csv"
      ]
    },
    {
      "cell_type": "code",
      "execution_count": 44,
      "metadata": {
        "id": "2LAkN4BjvBCq"
      },
      "outputs": [],
      "source": [
        "#Import necessary libraries\n",
        "\n",
        "import math, time, heapq\n",
        "import pandas as pd\n",
        "import numpy as np\n",
        "import seaborn as sns\n",
        "import matplotlib.pyplot as plt\n",
        "from scipy.stats import stats\n",
        "from sklearn.neighbors import NearestNeighbors\n",
        "from scipy.sparse import csr_matrix\n",
        "\n",
        "from collections import defaultdict\n",
        "from sklearn.neighbors import BallTree"
      ]
    },
    {
      "cell_type": "code",
      "execution_count": 45,
      "metadata": {
        "colab": {
          "base_uri": "https://localhost:8080/",
          "height": 223
        },
        "id": "vTHi0Oatu8g2",
        "outputId": "b709514c-9ee1-4b4d-f8c1-49f692dfe3eb"
      },
      "outputs": [
        {
          "name": "stdout",
          "output_type": "stream",
          "text": [
            "Total rows count: 2155\n"
          ]
        },
        {
          "data": {
            "text/html": [
              "<div>\n",
              "<style scoped>\n",
              "    .dataframe tbody tr th:only-of-type {\n",
              "        vertical-align: middle;\n",
              "    }\n",
              "\n",
              "    .dataframe tbody tr th {\n",
              "        vertical-align: top;\n",
              "    }\n",
              "\n",
              "    .dataframe thead th {\n",
              "        text-align: right;\n",
              "    }\n",
              "</style>\n",
              "<table border=\"1\" class=\"dataframe\">\n",
              "  <thead>\n",
              "    <tr style=\"text-align: right;\">\n",
              "      <th></th>\n",
              "      <th>city_id</th>\n",
              "      <th>district_id</th>\n",
              "      <th>name_en</th>\n",
              "      <th>name_si</th>\n",
              "      <th>name_ta</th>\n",
              "      <th>sub_name_en</th>\n",
              "      <th>sub_name_si</th>\n",
              "      <th>sub_name_ta</th>\n",
              "      <th>postcode</th>\n",
              "      <th>latitude</th>\n",
              "      <th>longitude</th>\n",
              "    </tr>\n",
              "  </thead>\n",
              "  <tbody>\n",
              "    <tr>\n",
              "      <th>0</th>\n",
              "      <td>1</td>\n",
              "      <td>1</td>\n",
              "      <td>Akkaraipattu</td>\n",
              "      <td>අක්කරපත්තුව</td>\n",
              "      <td>அக்கரைப்பற்று</td>\n",
              "      <td>NULL</td>\n",
              "      <td>NULL</td>\n",
              "      <td>NULL</td>\n",
              "      <td>32400.0</td>\n",
              "      <td>7.218428</td>\n",
              "      <td>81.854116</td>\n",
              "    </tr>\n",
              "    <tr>\n",
              "      <th>1</th>\n",
              "      <td>2</td>\n",
              "      <td>1</td>\n",
              "      <td>Ambagahawatta</td>\n",
              "      <td>අඹගහවත්ත</td>\n",
              "      <td>அம்பகஹவத்த</td>\n",
              "      <td>NULL</td>\n",
              "      <td>NULL</td>\n",
              "      <td>NULL</td>\n",
              "      <td>90326.0</td>\n",
              "      <td>7.301756</td>\n",
              "      <td>81.674729</td>\n",
              "    </tr>\n",
              "    <tr>\n",
              "      <th>2</th>\n",
              "      <td>3</td>\n",
              "      <td>1</td>\n",
              "      <td>Ampara</td>\n",
              "      <td>අම්පාර</td>\n",
              "      <td>அம்பாறை</td>\n",
              "      <td>NULL</td>\n",
              "      <td>NULL</td>\n",
              "      <td>NULL</td>\n",
              "      <td>32000.0</td>\n",
              "      <td>7.301756</td>\n",
              "      <td>81.674729</td>\n",
              "    </tr>\n",
              "    <tr>\n",
              "      <th>3</th>\n",
              "      <td>4</td>\n",
              "      <td>1</td>\n",
              "      <td>Bakmitiyawa</td>\n",
              "      <td>බක්මිටියාව</td>\n",
              "      <td>பக்மிடியாவ</td>\n",
              "      <td>NULL</td>\n",
              "      <td>NULL</td>\n",
              "      <td>NULL</td>\n",
              "      <td>32024.0</td>\n",
              "      <td>7.029632</td>\n",
              "      <td>81.680205</td>\n",
              "    </tr>\n",
              "    <tr>\n",
              "      <th>4</th>\n",
              "      <td>5</td>\n",
              "      <td>1</td>\n",
              "      <td>Deegawapiya</td>\n",
              "      <td>දීඝවාපිය</td>\n",
              "      <td>தீகவாபி</td>\n",
              "      <td>NULL</td>\n",
              "      <td>NULL</td>\n",
              "      <td>NULL</td>\n",
              "      <td>32006.0</td>\n",
              "      <td>7.301756</td>\n",
              "      <td>81.674729</td>\n",
              "    </tr>\n",
              "  </tbody>\n",
              "</table>\n",
              "</div>"
            ],
            "text/plain": [
              "   city_id  district_id        name_en      name_si        name_ta  \\\n",
              "0        1            1   Akkaraipattu  අක්කරපත්තුව  அக்கரைப்பற்று   \n",
              "1        2            1  Ambagahawatta     අඹගහවත්ත     அம்பகஹவத்த   \n",
              "2        3            1         Ampara       අම්පාර        அம்பாறை   \n",
              "3        4            1    Bakmitiyawa   බක්මිටියාව     பக்மிடியாவ   \n",
              "4        5            1    Deegawapiya     දීඝවාපිය        தீகவாபி   \n",
              "\n",
              "  sub_name_en sub_name_si sub_name_ta  postcode  latitude  longitude  \n",
              "0        NULL        NULL        NULL   32400.0  7.218428  81.854116  \n",
              "1        NULL        NULL        NULL   90326.0  7.301756  81.674729  \n",
              "2        NULL        NULL        NULL   32000.0  7.301756  81.674729  \n",
              "3        NULL        NULL        NULL   32024.0  7.029632  81.680205  \n",
              "4        NULL        NULL        NULL   32006.0  7.301756  81.674729  "
            ]
          },
          "execution_count": 45,
          "metadata": {},
          "output_type": "execute_result"
        }
      ],
      "source": [
        "# Read the dataset and output the total count\n",
        "#df = pd.read_csv('/content/Cities_of_SriLanka.csv')\n",
        "\n",
        "#----------------For VS Code----------------\n",
        "df = pd.read_csv('./Cities_of_SriLanka.csv')\n",
        "#-------------------------------------------\n",
        "print(f\"Total rows count: {df['city id'].count()}\")\n",
        "df.rename(columns={\"city id\": \"city_id\"}, inplace=True)\n",
        "df.head()"
      ]
    },
    {
      "cell_type": "code",
      "execution_count": 46,
      "metadata": {
        "colab": {
          "base_uri": "https://localhost:8080/"
        },
        "id": "wAx45xzby2On",
        "outputId": "51cb97c1-da15-43d6-8b94-61113c116aba"
      },
      "outputs": [
        {
          "name": "stdout",
          "output_type": "stream",
          "text": [
            "Total rows count after dropping duplicates: 1919\n"
          ]
        }
      ],
      "source": [
        "#Remove the Cities with little to no geographical difference\n",
        "\n",
        "df = df.drop_duplicates(subset=['latitude', 'longitude'], keep='first').reset_index(drop=True)\n",
        "print(f\"Total rows count after dropping duplicates: {df['city_id'].count()}\")"
      ]
    },
    {
      "cell_type": "code",
      "execution_count": 47,
      "metadata": {
        "id": "5qd_9dM11Shc"
      },
      "outputs": [],
      "source": [
        "#Dropping the columns that won't be used in the making of graph/Matrix\n",
        "df = df.drop(columns=[\"district_id\",\"name_si\",\"name_ta\",\"sub_name_en\",\"sub_name_si\",\"sub_name_ta\",\"postcode\"])"
      ]
    },
    {
      "cell_type": "code",
      "execution_count": 48,
      "metadata": {
        "id": "Jg8rsN22YrB3"
      },
      "outputs": [],
      "source": [
        "def resetIndex():\n",
        "  df.drop(columns=[\"city_id\"], inplace=True)\n",
        "  df.insert(0, \"city_id\", df.index)\n",
        "  return df"
      ]
    },
    {
      "cell_type": "code",
      "execution_count": 49,
      "metadata": {
        "colab": {
          "base_uri": "https://localhost:8080/",
          "height": 206
        },
        "id": "lUJXb9YD03LC",
        "outputId": "a1ce1317-1008-4f6a-a68f-e9b39b644387"
      },
      "outputs": [
        {
          "data": {
            "text/html": [
              "<div>\n",
              "<style scoped>\n",
              "    .dataframe tbody tr th:only-of-type {\n",
              "        vertical-align: middle;\n",
              "    }\n",
              "\n",
              "    .dataframe tbody tr th {\n",
              "        vertical-align: top;\n",
              "    }\n",
              "\n",
              "    .dataframe thead th {\n",
              "        text-align: right;\n",
              "    }\n",
              "</style>\n",
              "<table border=\"1\" class=\"dataframe\">\n",
              "  <thead>\n",
              "    <tr style=\"text-align: right;\">\n",
              "      <th></th>\n",
              "      <th>city_id</th>\n",
              "      <th>name_en</th>\n",
              "      <th>latitude</th>\n",
              "      <th>longitude</th>\n",
              "    </tr>\n",
              "  </thead>\n",
              "  <tbody>\n",
              "    <tr>\n",
              "      <th>0</th>\n",
              "      <td>0</td>\n",
              "      <td>Akkaraipattu</td>\n",
              "      <td>7.218428</td>\n",
              "      <td>81.854116</td>\n",
              "    </tr>\n",
              "    <tr>\n",
              "      <th>1</th>\n",
              "      <td>1</td>\n",
              "      <td>Ambagahawatta</td>\n",
              "      <td>7.301756</td>\n",
              "      <td>81.674729</td>\n",
              "    </tr>\n",
              "    <tr>\n",
              "      <th>2</th>\n",
              "      <td>2</td>\n",
              "      <td>Bakmitiyawa</td>\n",
              "      <td>7.029632</td>\n",
              "      <td>81.680205</td>\n",
              "    </tr>\n",
              "    <tr>\n",
              "      <th>3</th>\n",
              "      <td>3</td>\n",
              "      <td>Digamadulla Weeragoda</td>\n",
              "      <td>7.390125</td>\n",
              "      <td>81.696588</td>\n",
              "    </tr>\n",
              "    <tr>\n",
              "      <th>4</th>\n",
              "      <td>4</td>\n",
              "      <td>Dorakumbura</td>\n",
              "      <td>7.358870</td>\n",
              "      <td>81.301428</td>\n",
              "    </tr>\n",
              "  </tbody>\n",
              "</table>\n",
              "</div>"
            ],
            "text/plain": [
              "   city_id                name_en  latitude  longitude\n",
              "0        0           Akkaraipattu  7.218428  81.854116\n",
              "1        1          Ambagahawatta  7.301756  81.674729\n",
              "2        2            Bakmitiyawa  7.029632  81.680205\n",
              "3        3  Digamadulla Weeragoda  7.390125  81.696588\n",
              "4        4            Dorakumbura  7.358870  81.301428"
            ]
          },
          "execution_count": 49,
          "metadata": {},
          "output_type": "execute_result"
        }
      ],
      "source": [
        "resetIndex()\n",
        "df.head()"
      ]
    },
    {
      "cell_type": "markdown",
      "metadata": {
        "id": "zVQgWI8CMj9I"
      },
      "source": [
        "#Adjacency/Sparse Matrix Approach"
      ]
    },
    {
      "cell_type": "code",
      "execution_count": 50,
      "metadata": {
        "id": "080qnUobn9iJ"
      },
      "outputs": [],
      "source": [
        "def dist(lat1, lon1, lat2, lon2):\n",
        "    R = 6371   # Radius of Earth\n",
        "\n",
        "    # Convert degrees into radians\n",
        "    lat1, lon1, lat2, lon2 = map(math.radians, [lat1, lon1, lat2, lon2])\n",
        "\n",
        "    dlat = lat2 - lat1\n",
        "    dlon = lon2 - lon1\n",
        "\n",
        "    #Calculate the linear distance between two points\n",
        "    distance = dlat ** 2 + dlon ** 2\n",
        "    distance = math.sqrt(distance)\n",
        "\n",
        "    # Calculate spherical distance\n",
        "    a = math.asin(distance/(2*R))\n",
        "    c = R * 2 * math.asin(math.sqrt(a))\n",
        "\n",
        "    return c"
      ]
    },
    {
      "cell_type": "code",
      "execution_count": 51,
      "metadata": {
        "colab": {
          "base_uri": "https://localhost:8080/"
        },
        "collapsed": true,
        "id": "5qoXMzfAMRqQ",
        "outputId": "5b5d20ee-29f7-447f-986f-47db83ede397"
      },
      "outputs": [
        {
          "name": "stdout",
          "output_type": "stream",
          "text": [
            "Shape of the sparse adjacency matrix: (1919, 1919)\n"
          ]
        }
      ],
      "source": [
        "num_cities = len(df)\n",
        "k = 6\n",
        "\n",
        "# Fit the model on the geographical coordinates\n",
        "X = df[['latitude', 'longitude']]\n",
        "nn = NearestNeighbors(n_neighbors=k, algorithm='ball_tree').fit(X)\n",
        "\n",
        "# Find the 5 nearest neighbors\n",
        "distances, indices = nn.kneighbors(X)\n",
        "\n",
        "rows, cols, data = [], [], []\n",
        "seen_edges = set()\n",
        "\n",
        "for i in range(num_cities):\n",
        "    for j in range(1, k):\n",
        "        n_index = indices[i, j]\n",
        "\n",
        "        #check if updated before\n",
        "        edge = frozenset((i, n_index))\n",
        "        if edge in seen_edges:\n",
        "            continue\n",
        "        seen_edges.add(edge)\n",
        "\n",
        "        #If not calc distance\n",
        "        n_distance = distances[i, j]\n",
        "\n",
        "        #Add data in both ways to make it undirected\n",
        "        rows.append(i); cols.append(n_index); data.append(n_distance)\n",
        "        rows.append(n_index); cols.append(i); data.append(n_distance)\n",
        "\n",
        "sparse_matrix = csr_matrix((data, (rows, cols)), shape=(num_cities, num_cities))\n",
        "\n",
        "print(\"Shape of the sparse adjacency matrix:\", sparse_matrix.shape)"
      ]
    },
    {
      "cell_type": "code",
      "execution_count": 52,
      "metadata": {
        "colab": {
          "base_uri": "https://localhost:8080/"
        },
        "id": "8npyy8uTSYRG",
        "outputId": "528de18e-79f4-48e6-8e03-7173f5693f3d"
      },
      "outputs": [
        {
          "name": "stdout",
          "output_type": "stream",
          "text": [
            "\n",
            "First 10 rows and their non-zero entries (neighbors and distances):\n",
            "Row 0: [(np.int32(19), np.float64(0.10280801203432574)), (np.int32(20), np.float64(0.07630243464241533)), (np.int32(32), np.float64(0.09008373774760883)), (np.int32(33), np.float64(0.10312854912632105)), (np.int32(237), np.float64(0.025839241107277235)), (np.int32(256), np.float64(0.019672846708092478))]\n",
            "Row 1: [(np.int32(3), np.float64(0.0910322710384622)), (np.int32(15), np.float64(0.09149139670707118)), (np.int32(24), np.float64(0.07909985753767391)), (np.int32(34), np.float64(0.07288142004886898)), (np.int32(857), np.float64(0.07483869999999992))]\n",
            "Row 2: [(np.int32(6), np.float64(0.10433288545808693)), (np.int32(13), np.float64(0.18960060676363566)), (np.int32(14), np.float64(0.16315676726547387)), (np.int32(35), np.float64(0.14410087188900797)), (np.int32(736), np.float64(0.15465547323990886)), (np.int32(1287), np.float64(0.14722019989906115))]\n",
            "Row 3: [(np.int32(1), np.float64(0.0910322710384622)), (np.int32(5), np.float64(0.1434254019599354)), (np.int32(18), np.float64(0.08574358274022831)), (np.int32(29), np.float64(0.10378444672748054)), (np.int32(34), np.float64(0.06702854067275985)), (np.int32(254), np.float64(0.10895002554845554))]\n",
            "Row 4: [(np.int32(12), np.float64(0.06822785104940655)), (np.int32(21), np.float64(0.06688305968554638)), (np.int32(30), np.float64(0.1005036676395466)), (np.int32(172), np.float64(0.08523619765065339)), (np.int32(1300), np.float64(0.11906314399518725))]\n",
            "Row 5: [(np.int32(3), np.float64(0.1434254019599354)), (np.int32(17), np.float64(0.1027145131650356)), (np.int32(34), np.float64(0.10180341973376737)), (np.int32(264), np.float64(0.1599994008309083)), (np.int32(1300), np.float64(0.14824395659217002))]\n",
            "Row 6: [(np.int32(2), np.float64(0.10433288545808693)), (np.int32(14), np.float64(0.08830377098862335)), (np.int32(23), np.float64(0.22975540939079175)), (np.int32(27), np.float64(0.18382867699357852)), (np.int32(1278), np.float64(0.1467369784103509)), (np.int32(1287), np.float64(0.12451215817761711)), (np.int32(1309), np.float64(0.09620864048187168)), (np.int32(1317), np.float64(0.16622657347467187))]\n",
            "Row 7: [(np.int32(9), np.float64(0.020349275732074703)), (np.int32(18), np.float64(0.06605008151954772)), (np.int32(25), np.float64(0.05910833342405847)), (np.int32(28), np.float64(0.0037915017631557518)), (np.int32(29), np.float64(0.05406130353626062)), (np.int32(1618), np.float64(0.061906220437848734))]\n",
            "Row 8: [(np.int32(25), np.float64(0.045778337408103977)), (np.int32(244), np.float64(0.035889790363277725)), (np.int32(251), np.float64(0.015535722250994241)), (np.int32(254), np.float64(0.04308385017382163)), (np.int32(259), np.float64(0.03700104644209422)), (np.int32(270), np.float64(0.06635220522492322)), (np.int32(1618), np.float64(0.04632189443556866))]\n",
            "Row 9: [(np.int32(7), np.float64(0.020349275732074703)), (np.int32(19), np.float64(0.05820263844260249)), (np.int32(20), np.float64(0.0847779964387601)), (np.int32(25), np.float64(0.07940667065863882)), (np.int32(28), np.float64(0.016909392610025536)), (np.int32(29), np.float64(0.05034912040959338))]\n"
          ]
        }
      ],
      "source": [
        "print(\"\\nFirst 10 rows and their non-zero entries (neighbors and distances):\")\n",
        "\n",
        "for i in range(min(10, num_cities)):\n",
        "    row_data = sparse_matrix.getrow(i)\n",
        "    print(f\"Row {i}: {list(zip(row_data.indices, row_data.data))}\")"
      ]
    },
    {
      "cell_type": "markdown",
      "metadata": {
        "id": "euyv_8tDrt2C"
      },
      "source": [
        "# **Shortest Path Using Dijkstra's Algorithm.**"
      ]
    },
    {
      "cell_type": "code",
      "execution_count": 53,
      "metadata": {
        "id": "3ItfiwJD172P"
      },
      "outputs": [],
      "source": [
        "import heapq\n",
        "import time"
      ]
    },
    {
      "cell_type": "code",
      "execution_count": 54,
      "metadata": {
        "id": "Z3dzWylG2AgP"
      },
      "outputs": [],
      "source": [
        "def dijkstra(graph, start_node):\n",
        "    num_nodes = graph.shape[0]\n",
        "    distances = [float('inf')] * num_nodes\n",
        "    distances[start_node] = 0\n",
        "    priority_queue = [(0, start_node)]\n",
        "    previous_nodes = [None] * num_nodes\n",
        "\n",
        "    while priority_queue:\n",
        "        current_distance, current_node = heapq.heappop(priority_queue)\n",
        "\n",
        "        if current_distance > distances[current_node]:\n",
        "            continue\n",
        "\n",
        "        for neighbor, weight in zip(graph.indices[graph.indptr[current_node]:graph.indptr[current_node+1]],\n",
        "                                     graph.data[graph.indptr[current_node]:graph.indptr[current_node+1]]):\n",
        "            distance = current_distance + weight\n",
        "\n",
        "            if distance < distances[neighbor]:\n",
        "                distances[neighbor] = distance\n",
        "                previous_nodes[neighbor] = current_node\n",
        "                heapq.heappush(priority_queue, (distance, neighbor))\n",
        "\n",
        "    return distances, previous_nodes"
      ]
    },
    {
      "cell_type": "code",
      "execution_count": 55,
      "metadata": {
        "colab": {
          "base_uri": "https://localhost:8080/"
        },
        "id": "rCBHWvEpsAa8",
        "outputId": "2e765294-2b2f-475e-f7ed-ff07d1f07454"
      },
      "outputs": [
        {
          "name": "stdout",
          "output_type": "stream",
          "text": [
            "Execution time for Dijkstra's algorithm: 0.008002 seconds\n",
            "\n",
            "Shortest distance from Akkaraipattu to Kekirihena: 0.647454\n",
            "Shortest path (city indices): [0, np.int32(256), np.int32(15), np.int32(857), np.int32(24), np.int32(17), np.int32(1300), 10]\n",
            "Shortest path (city names): ['Akkaraipattu', 'Navatkadu', 'Irakkamam', 'Hingurana', 'Paragahakele', 'Namaloya', 'Nelliyadda', 'Kekirihena']\n"
          ]
        }
      ],
      "source": [
        "def get_shortest_path(previous_nodes, start_node, end_node):\n",
        "    path = []\n",
        "    current_node = end_node\n",
        "    while current_node is not None:\n",
        "        path.append(current_node)\n",
        "        current_node = previous_nodes[current_node]\n",
        "    path.reverse()\n",
        "    if path and path[0] != start_node:\n",
        "        return None  # No path found\n",
        "    return path\n",
        "\n",
        "# Create a mapping from city name (lowercase) to city index\n",
        "city_name_to_index = {name.lower(): index for index, name in zip(df['city_id'], df['name_en'])}\n",
        "\n",
        "# Example Usage (replace start and end nodes with desired city names)\n",
        "start_city_name = \"Akkaraipattu\"  # Example: first city in the DataFrame\n",
        "end_city_name = \"Kekirihena\" # Example: eleventh city in the DataFrame\n",
        "\n",
        "# Convert city names to indices\n",
        "start_node = city_name_to_index.get(start_city_name.lower())\n",
        "end_node = city_name_to_index.get(end_city_name.lower())\n",
        "\n",
        "if start_node is None:\n",
        "    print(f\"Start city '{start_city_name}' not found in the dataset.\")\n",
        "elif end_node is None:\n",
        "    print(f\"End city '{end_city_name}' not found in the dataset.\")\n",
        "else:\n",
        "    start_time = time.time()\n",
        "    distances, previous_nodes = dijkstra(sparse_matrix, start_node)\n",
        "    end_time = time.time()\n",
        "\n",
        "    shortest_distance = distances[end_node]\n",
        "    shortest_path_indices = get_shortest_path(previous_nodes, start_node, end_node)\n",
        "\n",
        "    print(f\"Execution time for Dijkstra's algorithm: {end_time - start_time:.6f} seconds\")\n",
        "\n",
        "    if shortest_distance != float('inf'):\n",
        "        print(f\"\\nShortest distance from {start_city_name} to {end_city_name}: {shortest_distance:.6f}\")\n",
        "        if shortest_path_indices:\n",
        "            shortest_path_names = [df.loc[i, 'name_en'] for i in shortest_path_indices]\n",
        "            print(f\"Shortest path (city indices): {shortest_path_indices}\")\n",
        "            print(f\"Shortest path (city names): {shortest_path_names}\")\n",
        "        else:\n",
        "            print(f\"No path found from {start_city_name} to {end_city_name}\")\n",
        "    else:\n",
        "        print(f\"\\nNo path found from {start_city_name} to {end_city_name}\")"
      ]
    },
    {
      "cell_type": "markdown",
      "metadata": {
        "id": "bVup-8x9Zbx9"
      },
      "source": [
        "### **Taking user input and displaying the distance in kilometers.**"
      ]
    },
    {
      "cell_type": "code",
      "execution_count": 56,
      "metadata": {
        "colab": {
          "base_uri": "https://localhost:8080/"
        },
        "id": "jUYZMLPXuGEO",
        "outputId": "89e6e993-245c-4445-9033-4a43f61af6a9"
      },
      "outputs": [
        {
          "name": "stdout",
          "output_type": "stream",
          "text": [
            "\n",
            "Execution time for Dijkstra's algorithm (with Haversine): 0.060752 seconds\n",
            "\n",
            "Shortest distance from Madulsima to Akkaraipattu: 85.751943 km\n",
            "Shortest path (city names): ['Madulsima', 'Arawakumbura', 'Ayiwela', 'Pitakumbura', 'Nilgala', 'Inginiyagala', 'Pahalalanda', 'Hingurana', 'Irakkamam', 'Navatkadu', 'Akkaraipattu']\n"
          ]
        }
      ],
      "source": [
        "# Get user input for start and end cities\n",
        "start_city_name_input = input(\"Enter the starting city name: \")\n",
        "end_city_name_input = input(\"Enter the ending city name: \")\n",
        "\n",
        "# Convert city names to indices (case-insensitive)\n",
        "start_node_input = city_name_to_index.get(start_city_name_input.lower())\n",
        "end_node_input = city_name_to_index.get(end_city_name_input.lower())\n",
        "\n",
        "if start_node_input is None:\n",
        "    print(f\"Start city '{start_city_name_input}' not found in the dataset.\")\n",
        "elif end_node_input is None:\n",
        "    print(f\"End city '{end_city_name_input}' not found in the dataset.\")\n",
        "else:\n",
        "    start_time = time.time()\n",
        "    # Use Haversine distance with NearestNeighbors\n",
        "    nn_haversine = NearestNeighbors(n_neighbors=k, algorithm='ball_tree', metric='haversine').fit(np.radians(X))\n",
        "    distances_haversine, indices_haversine = nn_haversine.kneighbors(np.radians(X))\n",
        "\n",
        "    # Rebuild the sparse matrix with Haversine distances (converted to kilometers)\n",
        "    rows_haversine, cols_haversine, data_haversine = [], [], []\n",
        "    seen_edges = set()\n",
        "\n",
        "    for i in range(num_cities):\n",
        "        for j in range(1, k):\n",
        "            neighbor_index_haversine = indices_haversine[i, j]\n",
        "\n",
        "            #check if updated before\n",
        "            edge = frozenset((i, neighbor_index_haversine))\n",
        "            if edge in seen_edges:\n",
        "                continue\n",
        "            seen_edges.add(edge)\n",
        "\n",
        "            # Convert haversine distance to kilometers (multiply by Earth's radius in km)\n",
        "            neighbor_distance_haversine = distances_haversine[i, j] * 6371\n",
        "\n",
        "            #Add data in both ways to make it undirected\n",
        "            rows_haversine.append(i); cols_haversine.append(neighbor_index_haversine); data_haversine.append(neighbor_distance_haversine)\n",
        "            rows_haversine.append(neighbor_index_haversine); cols_haversine.append(i); data_haversine.append(neighbor_distance_haversine)\n",
        "\n",
        "    sparse_matrix_haversine = csr_matrix((data_haversine, (rows_haversine, cols_haversine)), shape=(num_cities, num_cities))\n",
        "\n",
        "    distances_input, previous_nodes_input = dijkstra(sparse_matrix_haversine, start_node_input)\n",
        "    end_time = time.time()\n",
        "\n",
        "    shortest_distance_input = distances_input[end_node_input]\n",
        "    shortest_path_indices_input = get_shortest_path(previous_nodes_input, start_node_input, end_node_input)\n",
        "\n",
        "    print(f\"\\nExecution time for Dijkstra's algorithm (with Haversine): {end_time - start_time:.6f} seconds\")\n",
        "\n",
        "    if shortest_distance_input != float('inf'):\n",
        "        print(f\"\\nShortest distance from {start_city_name_input} to {end_city_name_input}: {shortest_distance_input:.6f} km\")\n",
        "        if shortest_path_indices_input:\n",
        "            shortest_path_names_input = [df.loc[i, 'name_en'] for i in shortest_path_indices_input]\n",
        "           # print(f\"Shortest path (city indices): {shortest_path_indices_input}\")\n",
        "            print(f\"Shortest path (city names): {shortest_path_names_input}\")\n",
        "        else:\n",
        "            print(f\"No path found from {start_city_name_input} to {end_city_name_input}\")\n",
        "    else:\n",
        "        print(f\"\\nNo path found from {start_city_name_input} to {end_city_name_input}\")"
      ]
    }
  ],
  "metadata": {
    "colab": {
      "include_colab_link": true,
      "provenance": []
    },
    "kernelspec": {
      "display_name": ".venv",
      "language": "python",
      "name": "python3"
    },
    "language_info": {
      "codemirror_mode": {
        "name": "ipython",
        "version": 3
      },
      "file_extension": ".py",
      "mimetype": "text/x-python",
      "name": "python",
      "nbconvert_exporter": "python",
      "pygments_lexer": "ipython3",
      "version": "3.12.3"
    }
  },
  "nbformat": 4,
  "nbformat_minor": 0
}
